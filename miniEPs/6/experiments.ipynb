{
 "cells": [
  {
   "cell_type": "code",
   "execution_count": 1,
   "metadata": {},
   "outputs": [],
   "source": [
    "import numpy as np"
   ]
  },
  {
   "cell_type": "code",
   "execution_count": 2,
   "metadata": {},
   "outputs": [
    {
     "data": {
      "text/plain": [
       "array([[ 74,  84,  94, 104],\n",
       "       [  5,   6,   7,   8],\n",
       "       [ 44,  52,  60,  68],\n",
       "       [ 40,  44,  48,  52]])"
      ]
     },
     "execution_count": 2,
     "metadata": {},
     "output_type": "execute_result"
    }
   ],
   "source": [
    "a = np.array([[2, 0, 8, 0],\n",
    "              [0, 1, 0, 0],\n",
    "              [0, 7, 1, 0],\n",
    "              [0, 0, 3, 1]])\n",
    "\n",
    "b = np.array([[1, 2, 3, 4],\n",
    "              [5, 6, 7, 8],\n",
    "              [9,10,11,12],\n",
    "              [13,14,15,16]])\n",
    "\n",
    "np.matmul(a, b)"
   ]
  },
  {
   "cell_type": "code",
   "execution_count": 3,
   "metadata": {},
   "outputs": [
    {
     "data": {
      "text/plain": [
       "array([[ 74.,  84.,  94., 104.],\n",
       "       [  5.,   6.,   7.,   8.],\n",
       "       [ 44.,  52.,  60.,  68.],\n",
       "       [ 40.,  44.,  48.,  52.]])"
      ]
     },
     "execution_count": 3,
     "metadata": {},
     "output_type": "execute_result"
    }
   ],
   "source": [
    "import numpy as np\n",
    "\n",
    "def blocked_matrix_multiply(A, B, block_size):\n",
    "  m, n = A.shape\n",
    "  n, p = B.shape\n",
    "  C = np.zeros((m, p))\n",
    "\n",
    "  for i in range(0, m, block_size):\n",
    "    for j in range(0, p, block_size):\n",
    "      for k in range(0, n, block_size):\n",
    "        # Multiplica submatrizes usando a técnica de blocagem\n",
    "        C[i:i+block_size, j:j+block_size] += np.dot(A[i:i+block_size, k:k+block_size], B[k:k+block_size, j:j+block_size])\n",
    "\n",
    "  return C\n",
    "\n",
    "blocked_matrix_multiply(a,b,2)"
   ]
  },
  {
   "cell_type": "code",
   "execution_count": 9,
   "metadata": {},
   "outputs": [
    {
     "data": {
      "text/plain": [
       "array([[ 74.,  84.,  94., 104.],\n",
       "       [  5.,   6.,   7.,   8.],\n",
       "       [ 44.,  52.,  60.,  68.],\n",
       "       [ 40.,  44.,  48.,  52.]])"
      ]
     },
     "execution_count": 9,
     "metadata": {},
     "output_type": "execute_result"
    }
   ],
   "source": [
    "import numpy as np\n",
    "\n",
    "def blocked_matrix_multiply(A, B, block_size):\n",
    "  m, n = A.shape\n",
    "  n, p = B.shape\n",
    "  C = np.zeros((m, p))\n",
    "\n",
    "  for i in range(0, m, block_size):\n",
    "    for j in range(0, p, block_size):\n",
    "      for k in range(0, n, block_size):\n",
    "        # Multiplica submatrizes usando a técnica de blocagem\n",
    "        C[i:i+block_size, j:j+block_size] += matrix_mul1(A[i:i+block_size, k:k+block_size],B[k:k+block_size, j:j+block_size]) \n",
    "  return C\n",
    "\n",
    "blocked_matrix_multiply(a,b,2)"
   ]
  },
  {
   "cell_type": "code",
   "execution_count": 7,
   "metadata": {},
   "outputs": [
    {
     "data": {
      "text/plain": [
       "array([[ 74.,  84.,  94., 104.],\n",
       "       [  5.,   6.,   7.,   8.],\n",
       "       [ 44.,  52.,  60.,  68.],\n",
       "       [ 40.,  44.,  48.,  52.]])"
      ]
     },
     "execution_count": 7,
     "metadata": {},
     "output_type": "execute_result"
    }
   ],
   "source": [
    "def blocked_matrix_multiply_b(A, B, block_size_i, block_size_k, block_size_j):\n",
    "  m, n = A.shape\n",
    "  n, p = B.shape\n",
    "  C = np.zeros((m, p))\n",
    "\n",
    "  for block_i in range(0, m, block_size_i):\n",
    "    for block_j in range(0, p, block_size_j):\n",
    "      for block_k in range(0, n, block_size_k):\n",
    "        # Multiplica submatrizes usando a técnica de blocagem\n",
    "        # C[i:i+block_size, j:j+block_size_j] += matrix_mul1(A[i:i+block_size, k:k+block_size],B[k:k+block_size, j:j+block_size_j]) \n",
    "        C[block_i:block_i+block_size_i, block_j:block_j+block_size_j] += np.dot(A[block_i:block_i+block_size_i, block_k:block_k+block_size_k],B[block_k:block_k+block_size_k, block_j:block_j+block_size_j])\n",
    "  return C\n",
    "\n",
    "blocked_matrix_multiply_b(a,b,2,1,2)"
   ]
  },
  {
   "cell_type": "code",
   "execution_count": 3,
   "metadata": {},
   "outputs": [
    {
     "data": {
      "text/plain": [
       "array([[ 74.,  84.,  94., 104.],\n",
       "       [  5.,   6.,   7.,   8.],\n",
       "       [ 44.,  52.,  60.,  68.],\n",
       "       [ 40.,  44.,  48.,  52.]])"
      ]
     },
     "execution_count": 3,
     "metadata": {},
     "output_type": "execute_result"
    }
   ],
   "source": [
    "def matrix_mul1(A,B):\n",
    "  m , n = A.shape\n",
    "  C = np.zeros((m,n))\n",
    "\n",
    "  for i in range(n):\n",
    "    for j in range(n):\n",
    "      for k in range(n):\n",
    "        # print(f'C[{i},{j}] += A[{i},{k}] * B[{k},{j}]')\n",
    "        C[i,j] += A[i,k] * B[k,j]\n",
    "\n",
    "  return C\n",
    "\n",
    "matrix_mul1(a,b)"
   ]
  },
  {
   "cell_type": "code",
   "execution_count": 10,
   "metadata": {},
   "outputs": [
    {
     "name": "stdout",
     "output_type": "stream",
     "text": [
      "C[0,0] += A[0,0] * B[0,0]\n",
      "C[0,1] += A[0,0] * B[0,1]\n",
      "C[0,2] += A[0,0] * B[0,2]\n",
      "C[0,3] += A[0,0] * B[0,3]\n",
      "C[0,0] += A[0,1] * B[1,0]\n",
      "C[0,1] += A[0,1] * B[1,1]\n",
      "C[0,2] += A[0,1] * B[1,2]\n",
      "C[0,3] += A[0,1] * B[1,3]\n",
      "C[0,0] += A[0,2] * B[2,0]\n",
      "C[0,1] += A[0,2] * B[2,1]\n",
      "C[0,2] += A[0,2] * B[2,2]\n",
      "C[0,3] += A[0,2] * B[2,3]\n",
      "C[0,0] += A[0,3] * B[3,0]\n",
      "C[0,1] += A[0,3] * B[3,1]\n",
      "C[0,2] += A[0,3] * B[3,2]\n",
      "C[0,3] += A[0,3] * B[3,3]\n",
      "C[1,0] += A[1,0] * B[0,0]\n",
      "C[1,1] += A[1,0] * B[0,1]\n",
      "C[1,2] += A[1,0] * B[0,2]\n",
      "C[1,3] += A[1,0] * B[0,3]\n",
      "C[1,0] += A[1,1] * B[1,0]\n",
      "C[1,1] += A[1,1] * B[1,1]\n",
      "C[1,2] += A[1,1] * B[1,2]\n",
      "C[1,3] += A[1,1] * B[1,3]\n",
      "C[1,0] += A[1,2] * B[2,0]\n",
      "C[1,1] += A[1,2] * B[2,1]\n",
      "C[1,2] += A[1,2] * B[2,2]\n",
      "C[1,3] += A[1,2] * B[2,3]\n",
      "C[1,0] += A[1,3] * B[3,0]\n",
      "C[1,1] += A[1,3] * B[3,1]\n",
      "C[1,2] += A[1,3] * B[3,2]\n",
      "C[1,3] += A[1,3] * B[3,3]\n",
      "C[2,0] += A[2,0] * B[0,0]\n",
      "C[2,1] += A[2,0] * B[0,1]\n",
      "C[2,2] += A[2,0] * B[0,2]\n",
      "C[2,3] += A[2,0] * B[0,3]\n",
      "C[2,0] += A[2,1] * B[1,0]\n",
      "C[2,1] += A[2,1] * B[1,1]\n",
      "C[2,2] += A[2,1] * B[1,2]\n",
      "C[2,3] += A[2,1] * B[1,3]\n",
      "C[2,0] += A[2,2] * B[2,0]\n",
      "C[2,1] += A[2,2] * B[2,1]\n",
      "C[2,2] += A[2,2] * B[2,2]\n",
      "C[2,3] += A[2,2] * B[2,3]\n",
      "C[2,0] += A[2,3] * B[3,0]\n",
      "C[2,1] += A[2,3] * B[3,1]\n",
      "C[2,2] += A[2,3] * B[3,2]\n",
      "C[2,3] += A[2,3] * B[3,3]\n",
      "C[3,0] += A[3,0] * B[0,0]\n",
      "C[3,1] += A[3,0] * B[0,1]\n",
      "C[3,2] += A[3,0] * B[0,2]\n",
      "C[3,3] += A[3,0] * B[0,3]\n",
      "C[3,0] += A[3,1] * B[1,0]\n",
      "C[3,1] += A[3,1] * B[1,1]\n",
      "C[3,2] += A[3,1] * B[1,2]\n",
      "C[3,3] += A[3,1] * B[1,3]\n",
      "C[3,0] += A[3,2] * B[2,0]\n",
      "C[3,1] += A[3,2] * B[2,1]\n",
      "C[3,2] += A[3,2] * B[2,2]\n",
      "C[3,3] += A[3,2] * B[2,3]\n",
      "C[3,0] += A[3,3] * B[3,0]\n",
      "C[3,1] += A[3,3] * B[3,1]\n",
      "C[3,2] += A[3,3] * B[3,2]\n",
      "C[3,3] += A[3,3] * B[3,3]\n"
     ]
    },
    {
     "data": {
      "text/plain": [
       "array([[ 74.,  84.,  94., 104.],\n",
       "       [  5.,   6.,   7.,   8.],\n",
       "       [ 44.,  52.,  60.,  68.],\n",
       "       [ 40.,  44.,  48.,  52.]])"
      ]
     },
     "execution_count": 10,
     "metadata": {},
     "output_type": "execute_result"
    }
   ],
   "source": [
    "def matrix_mul2(A,B):\n",
    "  m , n = A.shape\n",
    "  C = np.zeros((m,n))\n",
    "\n",
    "  for i in range(n):\n",
    "    for k in range(n):\n",
    "      for j in range(n):\n",
    "        print(f'C[{i},{j}] += A[{i},{k}] * B[{k},{j}]')\n",
    "        C[i,j] += A[i,k] * B[k,j]\n",
    "\n",
    "  return C\n",
    "\n",
    "matrix_mul2(a,b)"
   ]
  },
  {
   "cell_type": "code",
   "execution_count": 33,
   "metadata": {},
   "outputs": [
    {
     "name": "stdout",
     "output_type": "stream",
     "text": [
      "C[0, 0] += A[0,0] * B[0,0]\n",
      "C[0, 0] += A[0,1] * B[1,0]\n",
      "C[0, 0] += A[0,2] * B[2,0]\n",
      "C[0, 0] += A[0,3] * B[3,0]\n",
      "C[0, 1] += A[0,0] * B[0,1]\n",
      "C[0, 1] += A[0,1] * B[1,1]\n",
      "C[0, 1] += A[0,2] * B[2,1]\n",
      "C[0, 1] += A[0,3] * B[3,1]\n",
      "C[0, 2] += A[0,0] * B[0,2]\n",
      "C[0, 2] += A[0,1] * B[1,2]\n",
      "C[0, 2] += A[0,2] * B[2,2]\n",
      "C[0, 2] += A[0,3] * B[3,2]\n",
      "C[0, 3] += A[0,0] * B[0,3]\n",
      "C[0, 3] += A[0,1] * B[1,3]\n",
      "C[0, 3] += A[0,2] * B[2,3]\n",
      "C[0, 3] += A[0,3] * B[3,3]\n",
      "C[1, 0] += A[1,0] * B[0,0]\n",
      "C[1, 0] += A[1,1] * B[1,0]\n",
      "C[1, 0] += A[1,2] * B[2,0]\n",
      "C[1, 0] += A[1,3] * B[3,0]\n",
      "C[1, 1] += A[1,0] * B[0,1]\n",
      "C[1, 1] += A[1,1] * B[1,1]\n",
      "C[1, 1] += A[1,2] * B[2,1]\n",
      "C[1, 1] += A[1,3] * B[3,1]\n",
      "C[1, 2] += A[1,0] * B[0,2]\n",
      "C[1, 2] += A[1,1] * B[1,2]\n",
      "C[1, 2] += A[1,2] * B[2,2]\n",
      "C[1, 2] += A[1,3] * B[3,2]\n",
      "C[1, 3] += A[1,0] * B[0,3]\n",
      "C[1, 3] += A[1,1] * B[1,3]\n",
      "C[1, 3] += A[1,2] * B[2,3]\n",
      "C[1, 3] += A[1,3] * B[3,3]\n",
      "C[2, 0] += A[2,0] * B[0,0]\n",
      "C[2, 0] += A[2,1] * B[1,0]\n",
      "C[2, 0] += A[2,2] * B[2,0]\n",
      "C[2, 0] += A[2,3] * B[3,0]\n",
      "C[2, 1] += A[2,0] * B[0,1]\n",
      "C[2, 1] += A[2,1] * B[1,1]\n",
      "C[2, 1] += A[2,2] * B[2,1]\n",
      "C[2, 1] += A[2,3] * B[3,1]\n",
      "C[2, 2] += A[2,0] * B[0,2]\n",
      "C[2, 2] += A[2,1] * B[1,2]\n",
      "C[2, 2] += A[2,2] * B[2,2]\n",
      "C[2, 2] += A[2,3] * B[3,2]\n",
      "C[2, 3] += A[2,0] * B[0,3]\n",
      "C[2, 3] += A[2,1] * B[1,3]\n",
      "C[2, 3] += A[2,2] * B[2,3]\n",
      "C[2, 3] += A[2,3] * B[3,3]\n",
      "C[3, 0] += A[3,0] * B[0,0]\n",
      "C[3, 0] += A[3,1] * B[1,0]\n",
      "C[3, 0] += A[3,2] * B[2,0]\n",
      "C[3, 0] += A[3,3] * B[3,0]\n",
      "C[3, 1] += A[3,0] * B[0,1]\n",
      "C[3, 1] += A[3,1] * B[1,1]\n",
      "C[3, 1] += A[3,2] * B[2,1]\n",
      "C[3, 1] += A[3,3] * B[3,1]\n",
      "C[3, 2] += A[3,0] * B[0,2]\n",
      "C[3, 2] += A[3,1] * B[1,2]\n",
      "C[3, 2] += A[3,2] * B[2,2]\n",
      "C[3, 2] += A[3,3] * B[3,2]\n",
      "C[3, 3] += A[3,0] * B[0,3]\n",
      "C[3, 3] += A[3,1] * B[1,3]\n",
      "C[3, 3] += A[3,2] * B[2,3]\n",
      "C[3, 3] += A[3,3] * B[3,3]\n"
     ]
    },
    {
     "data": {
      "text/plain": [
       "array([[ 74.,  84.,  94., 104.],\n",
       "       [  5.,   6.,   7.,   8.],\n",
       "       [ 44.,  52.,  60.,  68.],\n",
       "       [ 40.,  44.,  48.,  52.]])"
      ]
     },
     "execution_count": 33,
     "metadata": {},
     "output_type": "execute_result"
    }
   ],
   "source": [
    "def mat_mul3(A, B, block_size):\n",
    "  n = a.shape[0]\n",
    "  C = np.zeros((n,n))\n",
    "  for block_i in range(0, n, block_size):\n",
    "    for block_j in range(0, n, block_size):\n",
    "      for block_k in range(0, n, block_size):\n",
    "        for i in range(block_size):\n",
    "          for k in range(block_size):\n",
    "            for j in range(block_size):\n",
    "              print(f'C[{block_i + i}, {block_j + j}] += A[{block_i + i},{block_k + k}] * B[{block_k+k},{block_j + j}]')\n",
    "              C[block_i + i, block_j + j] += A[block_i + i,block_k + k] * B[block_k+k,block_j + j]\n",
    "  return C\n",
    "\n",
    "mat_mul3(a,b,1)"
   ]
  },
  {
   "cell_type": "code",
   "execution_count": 21,
   "metadata": {},
   "outputs": [
    {
     "name": "stdout",
     "output_type": "stream",
     "text": [
      "0\n",
      "2\n"
     ]
    }
   ],
   "source": [
    "for i in range(0, 4, 2):\n",
    "  print(i)"
   ]
  },
  {
   "cell_type": "code",
   "execution_count": null,
   "metadata": {},
   "outputs": [],
   "source": []
  }
 ],
 "metadata": {
  "kernelspec": {
   "display_name": "py310",
   "language": "python",
   "name": "python3"
  },
  "language_info": {
   "codemirror_mode": {
    "name": "ipython",
    "version": 3
   },
   "file_extension": ".py",
   "mimetype": "text/x-python",
   "name": "python",
   "nbconvert_exporter": "python",
   "pygments_lexer": "ipython3",
   "version": "3.10.10"
  },
  "orig_nbformat": 4
 },
 "nbformat": 4,
 "nbformat_minor": 2
}
